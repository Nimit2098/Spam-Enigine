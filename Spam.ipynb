{
 "cells": [
  {
   "cell_type": "markdown",
   "metadata": {},
   "source": [
    "# Spam Engine Model\n",
    "Nimit Shah"
   ]
  },
  {
   "cell_type": "markdown",
   "metadata": {},
   "source": [
    "In this project we are to implement a model that classifies a message to be spam or ham. We process the data/message to clean and tokenize it. We create a bag of words from the vocab list extracted by running through all the words in every messages. A sparse matrix ois created using the indexes and count. We combine the sparse matrix and the true label from the dataset. After that we divide the combined data into train and test dataset. We train our Logistic Regression model using the train dataset. The predictions of the label are calculated for the test dataset. The true label and the predicted label are comapred and the accuracy of the model is calculated."
   ]
  },
  {
   "cell_type": "code",
   "execution_count": 44,
   "metadata": {},
   "outputs": [],
   "source": [
    "#Importing libraries\n",
    "import pandas as pd\n",
    "import numpy as np\n",
    "import matplotlib.pyplot as plt\n",
    "import nltk\n",
    "from nltk.corpus import stopwords\n",
    "import string\n",
    "from collections import Counter \n",
    "from nltk.stem import WordNetLemmatizer\n",
    "import pickle"
   ]
  },
  {
   "cell_type": "code",
   "execution_count": 2,
   "metadata": {},
   "outputs": [
    {
     "data": {
      "text/html": [
       "<div>\n",
       "<style scoped>\n",
       "    .dataframe tbody tr th:only-of-type {\n",
       "        vertical-align: middle;\n",
       "    }\n",
       "\n",
       "    .dataframe tbody tr th {\n",
       "        vertical-align: top;\n",
       "    }\n",
       "\n",
       "    .dataframe thead th {\n",
       "        text-align: right;\n",
       "    }\n",
       "</style>\n",
       "<table border=\"1\" class=\"dataframe\">\n",
       "  <thead>\n",
       "    <tr style=\"text-align: right;\">\n",
       "      <th></th>\n",
       "      <th>CATEGORY</th>\n",
       "      <th>MESSAGE</th>\n",
       "      <th>FILE_NAME</th>\n",
       "    </tr>\n",
       "  </thead>\n",
       "  <tbody>\n",
       "    <tr>\n",
       "      <th>0</th>\n",
       "      <td>1</td>\n",
       "      <td>Dear Homeowner,\\n\\n \\n\\nInterest Rates are at ...</td>\n",
       "      <td>00249.5f45607c1bffe89f60ba1ec9f878039a</td>\n",
       "    </tr>\n",
       "    <tr>\n",
       "      <th>1</th>\n",
       "      <td>1</td>\n",
       "      <td>ATTENTION: This is a MUST for ALL Computer Use...</td>\n",
       "      <td>00373.ebe8670ac56b04125c25100a36ab0510</td>\n",
       "    </tr>\n",
       "    <tr>\n",
       "      <th>2</th>\n",
       "      <td>1</td>\n",
       "      <td>This is a multi-part message in MIME format.\\n...</td>\n",
       "      <td>00214.1367039e50dc6b7adb0f2aa8aba83216</td>\n",
       "    </tr>\n",
       "    <tr>\n",
       "      <th>3</th>\n",
       "      <td>1</td>\n",
       "      <td>IMPORTANT INFORMATION:\\n\\n\\n\\nThe new domain n...</td>\n",
       "      <td>00210.050ffd105bd4e006771ee63cabc59978</td>\n",
       "    </tr>\n",
       "    <tr>\n",
       "      <th>4</th>\n",
       "      <td>1</td>\n",
       "      <td>This is the bottom line.  If you can GIVE AWAY...</td>\n",
       "      <td>00033.9babb58d9298daa2963d4f514193d7d6</td>\n",
       "    </tr>\n",
       "  </tbody>\n",
       "</table>\n",
       "</div>"
      ],
      "text/plain": [
       "   CATEGORY                                            MESSAGE  \\\n",
       "0         1  Dear Homeowner,\\n\\n \\n\\nInterest Rates are at ...   \n",
       "1         1  ATTENTION: This is a MUST for ALL Computer Use...   \n",
       "2         1  This is a multi-part message in MIME format.\\n...   \n",
       "3         1  IMPORTANT INFORMATION:\\n\\n\\n\\nThe new domain n...   \n",
       "4         1  This is the bottom line.  If you can GIVE AWAY...   \n",
       "\n",
       "                                FILE_NAME  \n",
       "0  00249.5f45607c1bffe89f60ba1ec9f878039a  \n",
       "1  00373.ebe8670ac56b04125c25100a36ab0510  \n",
       "2  00214.1367039e50dc6b7adb0f2aa8aba83216  \n",
       "3  00210.050ffd105bd4e006771ee63cabc59978  \n",
       "4  00033.9babb58d9298daa2963d4f514193d7d6  "
      ]
     },
     "execution_count": 2,
     "metadata": {},
     "output_type": "execute_result"
    }
   ],
   "source": [
    "#Loading the dataset\n",
    "df = pd.read_csv('spam_email.csv')\n",
    "\n",
    "#Printing the sample fo dataset\n",
    "df.head()"
   ]
  },
  {
   "cell_type": "code",
   "execution_count": 3,
   "metadata": {},
   "outputs": [
    {
     "data": {
      "text/plain": [
       "0    3900\n",
       "1    1896\n",
       "Name: Label, dtype: int64"
      ]
     },
     "execution_count": 3,
     "metadata": {},
     "output_type": "execute_result"
    }
   ],
   "source": [
    "#Renaming the columns\n",
    "df.rename(columns = {\"CATEGORY\": 'Label', \"MESSAGE\": 'Email'}, inplace=True)\n",
    "\n",
    "#Checking the count of 'ham' and 'spam'\n",
    "df['Label'].value_counts()"
   ]
  },
  {
   "cell_type": "code",
   "execution_count": 4,
   "metadata": {},
   "outputs": [
    {
     "name": "stdout",
     "output_type": "stream",
     "text": [
      "df.shape (5796, 3)\n",
      "Null Values: \n",
      " Label        0\n",
      "Email        0\n",
      "FILE_NAME    0\n",
      "dtype: int64\n"
     ]
    }
   ],
   "source": [
    "#Printing the shape of the dataset\n",
    "print('df.shape',df.shape)\n",
    "\n",
    "#Printing the count null values\n",
    "print('Null Values: \\n',df.isnull().sum())"
   ]
  },
  {
   "cell_type": "markdown",
   "metadata": {},
   "source": [
    "### Tokenizing and Lemmeting the messages"
   ]
  },
  {
   "cell_type": "code",
   "execution_count": 5,
   "metadata": {},
   "outputs": [],
   "source": [
    "#Definening function for processing message\n",
    "def process_text(text):\n",
    "    #Initializing a set for all Unique words from the data\n",
    "    unique_words = set()\n",
    "    no_punc = [char for char in text if char not in string.punctuation]  #Removing the punctuations from the message\n",
    "    no_punc = ''.join(no_punc)\n",
    "    clean_words = [word.lower() for word in no_punc.split() if word.lower() not in stopwords.words('english')]  #Removing the stopwords from the message\n",
    "    lemmet = WordNetLemmatizer()\n",
    "    lemmet_words = [lemmet.lemmatize(word1) for word1 in clean_words] #Lemmeting the words in the message\n",
    "    for i in lemmet_words:\n",
    "        unique_words.add(i)\n",
    "\n",
    "    for index,word in enumerate(sorted(list(unique_words))):\n",
    "        vocab_dict[word] = index \n",
    "    return(lemmet_words)"
   ]
  },
  {
   "cell_type": "code",
   "execution_count": 6,
   "metadata": {},
   "outputs": [],
   "source": [
    "#Initializing a dictionary for storing the words and indexes\n",
    "vocab_dict = {}\n",
    "#Calling the function for 'Email' in all the rows in the dataframe\n",
    "vocab_list = df['Email'].apply(process_text)"
   ]
  },
  {
   "cell_type": "markdown",
   "metadata": {},
   "source": [
    "### Implementing CountVectorizer"
   ]
  },
  {
   "cell_type": "code",
   "execution_count": 7,
   "metadata": {},
   "outputs": [],
   "source": [
    "from scipy.sparse import csr_matrix\n",
    "#Initializing lists\n",
    "row, col, val = [], [], []\n",
    "\n",
    "#for loop to itterate through list of lemmeted words of the messages\n",
    "for idx, sent in enumerate(vocab_list):\n",
    "\n",
    "    count_word = dict(Counter(sent)) #Counts the occurrence of every word in each message\n",
    "    \n",
    "    for word, count in count_word.items(): #Itterates through all the words from the dictionary(Count_words)\n",
    "        col_index = vocab_dict.get(word) #Gets the index of the word from vocab_dict\n",
    "        if col_index >= 0:\n",
    "            row.append(idx)\n",
    "            col.append(col_index)\n",
    "            val.append(count)\n",
    "        "
   ]
  },
  {
   "cell_type": "code",
   "execution_count": 8,
   "metadata": {},
   "outputs": [],
   "source": [
    "#Combies all the indexes and values into a sparse matrix.\n",
    "message_bow = csr_matrix((val, (row,col)), shape=(len(df['Email']),len(vocab_list)))"
   ]
  },
  {
   "cell_type": "code",
   "execution_count": 9,
   "metadata": {},
   "outputs": [],
   "source": [
    "from sklearn.model_selection import train_test_split\n",
    "#Splitiing the sparse matrix into test and train dataset\n",
    "X_train, X_test, y_train, y_test = train_test_split(message_bow, df['Label'], test_size = 0.20, random_state = 0)"
   ]
  },
  {
   "cell_type": "markdown",
   "metadata": {},
   "source": [
    "### Logistic Regression"
   ]
  },
  {
   "cell_type": "code",
   "execution_count": 10,
   "metadata": {},
   "outputs": [
    {
     "name": "stderr",
     "output_type": "stream",
     "text": [
      "C:\\Users\\nimit\\anaconda3\\envs\\Spam_engine\\lib\\site-packages\\sklearn\\linear_model\\_logistic.py:814: ConvergenceWarning: lbfgs failed to converge (status=1):\n",
      "STOP: TOTAL NO. of ITERATIONS REACHED LIMIT.\n",
      "\n",
      "Increase the number of iterations (max_iter) or scale the data as shown in:\n",
      "    https://scikit-learn.org/stable/modules/preprocessing.html\n",
      "Please also refer to the documentation for alternative solver options:\n",
      "    https://scikit-learn.org/stable/modules/linear_model.html#logistic-regression\n",
      "  n_iter_i = _check_optimize_result(\n"
     ]
    }
   ],
   "source": [
    "from sklearn.linear_model import LogisticRegression\n",
    "#Logistic Regression model\n",
    "logreg = LogisticRegression()\n",
    "logreg.fit(X_train, y_train) #Training the model using train dataset.\n",
    "pred_train = logreg.predict(X_train) #Calculating predictions for the train input\n",
    "pred_test = logreg.predict(X_test) #Calculating predictions for the test input"
   ]
  },
  {
   "cell_type": "code",
   "execution_count": 34,
   "metadata": {},
   "outputs": [],
   "source": [
    "from sklearn.metrics import classification_report, confusion_matrix, accuracy_score, precision_score\n",
    "\n",
    "#Calculating accuracy, confusion matrix and classification report\n",
    "train_acc = accuracy_score(y_train, pred_train)\n",
    "conf_mat_train = confusion_matrix(y_train, pred_train)\n",
    "cls_report_train = classification_report(y_train,pred_train)\n",
    "precison_train = precision_score(y_train,pred_train)"
   ]
  },
  {
   "cell_type": "code",
   "execution_count": 35,
   "metadata": {},
   "outputs": [
    {
     "name": "stdout",
     "output_type": "stream",
     "text": [
      "Classification Report:\n",
      "              precision    recall  f1-score   support\n",
      "\n",
      "           0       0.97      0.99      0.98      3102\n",
      "           1       0.98      0.95      0.96      1534\n",
      "\n",
      "    accuracy                           0.98      4636\n",
      "   macro avg       0.98      0.97      0.97      4636\n",
      "weighted avg       0.98      0.98      0.98      4636\n",
      "\n",
      "\n",
      "Accuracy for train Dataset: 97.606\n",
      "Precision Score for train: 0.9817197020988491\n"
     ]
    }
   ],
   "source": [
    "print('Classification Report:')\n",
    "print(cls_report_train)\n",
    "print()\n",
    "print('Accuracy for train Dataset:', round(train_acc * 100, 3))\n",
    "print('Precision Score for train:', precison_train)"
   ]
  },
  {
   "cell_type": "code",
   "execution_count": 36,
   "metadata": {},
   "outputs": [
    {
     "data": {
      "image/png": "[encoded data removed]",
      "text/plain": [
       "<Figure size 432x288 with 2 Axes>"
      ]
     },
     "metadata": {
      "needs_background": "light"
     },
     "output_type": "display_data"
    }
   ],
   "source": [
    "import seaborn as sns\n",
    "\n",
    "# Plotting the confusion matrix\n",
    "ax = sns.heatmap(conf_mat_train, annot=True, cmap='Blues')\n",
    "\n",
    "ax.set_title('Confusion Matrix for Train data\\n\\n');\n",
    "ax.set_xlabel('\\nPredicted Values')\n",
    "ax.set_ylabel('Actual Values ');"
   ]
  },
  {
   "cell_type": "code",
   "execution_count": 37,
   "metadata": {},
   "outputs": [],
   "source": [
    "#Calculating accuracy, confusion matrix and classification report\n",
    "test_acc = accuracy_score(y_test, pred_test)\n",
    "conf_mat_test = confusion_matrix(y_test, pred_test)\n",
    "cls_report_test = classification_report(y_test,pred_test)\n",
    "precison_test = precision_score(y_test,pred_test)"
   ]
  },
  {
   "cell_type": "code",
   "execution_count": 38,
   "metadata": {},
   "outputs": [
    {
     "name": "stdout",
     "output_type": "stream",
     "text": [
      "Classification Report:\n",
      "              precision    recall  f1-score   support\n",
      "\n",
      "           0       0.96      0.96      0.96       798\n",
      "           1       0.92      0.90      0.91       362\n",
      "\n",
      "    accuracy                           0.94      1160\n",
      "   macro avg       0.94      0.93      0.93      1160\n",
      "weighted avg       0.94      0.94      0.94      1160\n",
      "\n",
      "\n",
      "Accuracy for test Dataset: 94.397\n",
      "Precision Score for test: 0.9159663865546218\n"
     ]
    }
   ],
   "source": [
    "print('Classification Report:')\n",
    "print(classification_report(y_test,pred_test))\n",
    "print()\n",
    "print('Accuracy for test Dataset:', round(test_acc * 100, 3))\n",
    "print('Precision Score for test:', precison_test)"
   ]
  },
  {
   "cell_type": "code",
   "execution_count": 39,
   "metadata": {},
   "outputs": [
    {
     "data": {
      "image/png": "[encoded data removed]",
      "text/plain": [
       "<Figure size 432x288 with 2 Axes>"
      ]
     },
     "metadata": {
      "needs_background": "light"
     },
     "output_type": "display_data"
    }
   ],
   "source": [
    "# Plotting the confusion matrix\n",
    "ax1 = sns.heatmap(conf_mat_test, annot=True, cmap='Blues')\n",
    "\n",
    "ax1.set_title('Confusion Matrix for Test data\\n\\n');\n",
    "ax1.set_xlabel('\\nPredicted Values')\n",
    "ax1.set_ylabel('Actual Values ');"
   ]
  }
 ],
 "metadata": {
  "interpreter": {
   "hash": "cb6959ff4e1c0c7edc68c9d04fb01c69bd32cc9b2a01f4141f73aa5f4a105374"
  },
  "kernelspec": {
   "display_name": "Spam_engine",
   "language": "python",
   "name": "spam_engine"
  },
  "language_info": {
   "codemirror_mode": {
    "name": "ipython",
    "version": 3
   },
   "file_extension": ".py",
   "mimetype": "text/x-python",
   "name": "python",
   "nbconvert_exporter": "python",
   "pygments_lexer": "ipython3",
   "version": "3.10.4"
  },
  "orig_nbformat": 4
 },
 "nbformat": 4,
 "nbformat_minor": 2
}
